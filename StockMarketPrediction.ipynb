{
  "nbformat": 4,
  "nbformat_minor": 0,
  "metadata": {
    "colab": {
      "name": "StockMarketPrediction.ipynb",
      "provenance": [],
      "toc_visible": true
    },
    "kernelspec": {
      "name": "python3",
      "display_name": "Python 3"
    }
  },
  "cells": [
    {
      "cell_type": "code",
      "metadata": {
        "id": "zLUcqcknODCd"
      },
      "source": [
        "#Importing all libraries \n",
        "\n",
        "from pandas_datareader import data\n",
        "import matplotlib.pyplot as plt #visualization of data\n",
        "import pandas as pd #used to read the datset \n",
        "import datetime as dt\n",
        "import datetime\n",
        "import urllib.request, json\n",
        "import os\n",
        "import numpy as np #perform basic array operations\n",
        "import tensorflow as tf \n",
        "from sklearn.preprocessing import MinMaxScaler #used to scale the data\n",
        "\n",
        "from sklearn.metrics import mean_absolute_error,mean_squared_error\n",
        "\n",
        "# API KEY: RWL0I1BNSUZDQFC7"
      ],
      "execution_count": null,
      "outputs": []
    },
    {
      "cell_type": "code",
      "metadata": {
        "id": "XRMwzJpwOL1W",
        "outputId": "a1d4d9b5-9184-44e0-c2d3-bcf72ecc92e7",
        "colab": {
          "base_uri": "https://localhost:8080/",
          "height": 34
        }
      },
      "source": [
        "data_source = 'alphavantage'\n",
        "\n",
        "if data_source == 'alphavantage':\n",
        "    # Loading data from Alphavantage \n",
        "\n",
        "    api_key = 'RWL0I1BNSUZDQFC7'\n",
        "\n",
        "    ticker = \"GOOG\"\n",
        "\n",
        "    # JSON file with all the stock market data\n",
        "    url_string = \"https://www.alphavantage.co/query?function=TIME_SERIES_DAILY&symbol=%s&outputsize=full&apikey=%s\"%(ticker,api_key)\n",
        "\n",
        "    # Saving the data to this file\n",
        "    file_to_save = 'stock_market_data-%s.csv'%ticker\n",
        "\n",
        "    # If you haven't already saved data,\n",
        "    # Go ahead and grab the data from the url\n",
        "    # And store date, low, high, volume, close, open values to a Pandas DataFrame\n",
        "    if not os.path.exists(file_to_save):\n",
        "        with urllib.request.urlopen(url_string) as url:\n",
        "            data = json.loads(url.read().decode())\n",
        "            # extract stock market data\n",
        "            data = data['Time Series (Daily)']\n",
        "            df = pd.DataFrame(columns=['Date','Low','High','Close','Open'])\n",
        "            for k,v in data.items():\n",
        "                date = dt.datetime.strptime(k, '%Y-%m-%d')\n",
        "                data_row = [date.date(),float(v['3. low']),float(v['2. high']),\n",
        "                            float(v['4. close']),float(v['1. open'])]\n",
        "                df.loc[-1,:] = data_row\n",
        "                df.index = df.index + 1\n",
        "        print('Data saved to : %s'%file_to_save)        \n",
        "        df.to_csv(file_to_save)\n",
        "\n",
        "    # If the data is already there, just load it from the CSV\n",
        "    else:\n",
        "        print('File already exists. Loading data from CSV')\n",
        "        df = pd.read_csv(file_to_save,index_col=0)\n",
        "\n",
        "else:\n",
        "\n",
        "    # Loading localy saved data\n",
        "    df = pd.read_csv(\"GOOG.csv\")\n",
        "    print('Loaded data from localy saved data')"
      ],
      "execution_count": null,
      "outputs": [
        {
          "output_type": "stream",
          "text": [
            "Data saved to : stock_market_data-GOOG.csv\n"
          ],
          "name": "stdout"
        }
      ]
    },
    {
      "cell_type": "markdown",
      "metadata": {
        "id": "qatwWAGxVjy4"
      },
      "source": [
        "# Data Preprocessing "
      ]
    },
    {
      "cell_type": "code",
      "metadata": {
        "id": "GrE3vMjdUPZ6",
        "outputId": "996a90dc-2ece-4cc8-aa0c-31e55ad59058",
        "colab": {
          "base_uri": "https://localhost:8080/",
          "height": 431
        }
      },
      "source": [
        "df=df.set_index('Date')\n",
        "df"
      ],
      "execution_count": null,
      "outputs": [
        {
          "output_type": "execute_result",
          "data": {
            "text/html": [
              "<div>\n",
              "<style scoped>\n",
              "    .dataframe tbody tr th:only-of-type {\n",
              "        vertical-align: middle;\n",
              "    }\n",
              "\n",
              "    .dataframe tbody tr th {\n",
              "        vertical-align: top;\n",
              "    }\n",
              "\n",
              "    .dataframe thead th {\n",
              "        text-align: right;\n",
              "    }\n",
              "</style>\n",
              "<table border=\"1\" class=\"dataframe\">\n",
              "  <thead>\n",
              "    <tr style=\"text-align: right;\">\n",
              "      <th></th>\n",
              "      <th>Low</th>\n",
              "      <th>High</th>\n",
              "      <th>Close</th>\n",
              "      <th>Open</th>\n",
              "    </tr>\n",
              "    <tr>\n",
              "      <th>Date</th>\n",
              "      <th></th>\n",
              "      <th></th>\n",
              "      <th></th>\n",
              "      <th></th>\n",
              "    </tr>\n",
              "  </thead>\n",
              "  <tbody>\n",
              "    <tr>\n",
              "      <th>2020-10-09</th>\n",
              "      <td>1489.45</td>\n",
              "      <td>1516.52</td>\n",
              "      <td>1515.22</td>\n",
              "      <td>1494.7</td>\n",
              "    </tr>\n",
              "    <tr>\n",
              "      <th>2020-10-08</th>\n",
              "      <td>1465.09</td>\n",
              "      <td>1490</td>\n",
              "      <td>1485.93</td>\n",
              "      <td>1465.09</td>\n",
              "    </tr>\n",
              "    <tr>\n",
              "      <th>2020-10-07</th>\n",
              "      <td>1436</td>\n",
              "      <td>1468.96</td>\n",
              "      <td>1460.29</td>\n",
              "      <td>1464.29</td>\n",
              "    </tr>\n",
              "    <tr>\n",
              "      <th>2020-10-06</th>\n",
              "      <td>1448.59</td>\n",
              "      <td>1486.76</td>\n",
              "      <td>1453.44</td>\n",
              "      <td>1475.58</td>\n",
              "    </tr>\n",
              "    <tr>\n",
              "      <th>2020-10-05</th>\n",
              "      <td>1464.27</td>\n",
              "      <td>1488.21</td>\n",
              "      <td>1486.02</td>\n",
              "      <td>1466.21</td>\n",
              "    </tr>\n",
              "    <tr>\n",
              "      <th>...</th>\n",
              "      <td>...</td>\n",
              "      <td>...</td>\n",
              "      <td>...</td>\n",
              "      <td>...</td>\n",
              "    </tr>\n",
              "    <tr>\n",
              "      <th>2014-04-02</th>\n",
              "      <td>562.19</td>\n",
              "      <td>604.83</td>\n",
              "      <td>567</td>\n",
              "      <td>565.106</td>\n",
              "    </tr>\n",
              "    <tr>\n",
              "      <th>2014-04-01</th>\n",
              "      <td>558.71</td>\n",
              "      <td>568.45</td>\n",
              "      <td>567.16</td>\n",
              "      <td>558.71</td>\n",
              "    </tr>\n",
              "    <tr>\n",
              "      <th>2014-03-31</th>\n",
              "      <td>556.93</td>\n",
              "      <td>567</td>\n",
              "      <td>556.97</td>\n",
              "      <td>566.89</td>\n",
              "    </tr>\n",
              "    <tr>\n",
              "      <th>2014-03-28</th>\n",
              "      <td>558.67</td>\n",
              "      <td>566.43</td>\n",
              "      <td>559.99</td>\n",
              "      <td>561.2</td>\n",
              "    </tr>\n",
              "    <tr>\n",
              "      <th>2014-03-27</th>\n",
              "      <td>552.92</td>\n",
              "      <td>568</td>\n",
              "      <td>558.46</td>\n",
              "      <td>568</td>\n",
              "    </tr>\n",
              "  </tbody>\n",
              "</table>\n",
              "<p>1648 rows × 4 columns</p>\n",
              "</div>"
            ],
            "text/plain": [
              "                Low     High    Close     Open\n",
              "Date                                          \n",
              "2020-10-09  1489.45  1516.52  1515.22   1494.7\n",
              "2020-10-08  1465.09     1490  1485.93  1465.09\n",
              "2020-10-07     1436  1468.96  1460.29  1464.29\n",
              "2020-10-06  1448.59  1486.76  1453.44  1475.58\n",
              "2020-10-05  1464.27  1488.21  1486.02  1466.21\n",
              "...             ...      ...      ...      ...\n",
              "2014-04-02   562.19   604.83      567  565.106\n",
              "2014-04-01   558.71   568.45   567.16   558.71\n",
              "2014-03-31   556.93      567   556.97   566.89\n",
              "2014-03-28   558.67   566.43   559.99    561.2\n",
              "2014-03-27   552.92      568   558.46      568\n",
              "\n",
              "[1648 rows x 4 columns]"
            ]
          },
          "metadata": {
            "tags": []
          },
          "execution_count": 25
        }
      ]
    },
    {
      "cell_type": "code",
      "metadata": {
        "id": "2n_-FmU4WCys",
        "outputId": "2822c9b3-9b86-4209-904e-8957779bbbfd",
        "colab": {
          "base_uri": "https://localhost:8080/",
          "height": 35
        }
      },
      "source": [
        "X=df.iloc[:,[0,1,3]]\n",
        "y=df.iloc[:,[2]]\n",
        "\n",
        "\"\"\"df1= df['Close']\n",
        "df1\n",
        "\n",
        "scaler =  MinMaxScaler()\n",
        "df1= scaler.fit_transform(df1.values.reshape(-1,1))\n",
        "df1\"\"\""
      ],
      "execution_count": null,
      "outputs": [
        {
          "output_type": "execute_result",
          "data": {
            "application/vnd.google.colaboratory.intrinsic+json": {
              "type": "string"
            },
            "text/plain": [
              "\"df1= df['Close']\\ndf1\\n\\nscaler =  MinMaxScaler()\\ndf1= scaler.fit_transform(df1.values.reshape(-1,1))\\ndf1\""
            ]
          },
          "metadata": {
            "tags": []
          },
          "execution_count": 152
        }
      ]
    },
    {
      "cell_type": "code",
      "metadata": {
        "id": "Ld8CmVQNUPyH",
        "outputId": "fa840544-94a7-405f-f747-806d4995e6ff",
        "colab": {
          "base_uri": "https://localhost:8080/",
          "height": 35
        }
      },
      "source": [
        "X_test = X[0:196]\n",
        "y_test = y[0:196]\n",
        "\n",
        "X_train= X[196:]\n",
        "y_train= y[196:]\n",
        "\n",
        "\n",
        "\n",
        "\"\"\"df_train=df1[196:]\n",
        "df_test= df1[0:196]\"\"\""
      ],
      "execution_count": null,
      "outputs": [
        {
          "output_type": "execute_result",
          "data": {
            "application/vnd.google.colaboratory.intrinsic+json": {
              "type": "string"
            },
            "text/plain": [
              "'df_train=df1[196:]\\ndf_test= df1[0:196]'"
            ]
          },
          "metadata": {
            "tags": []
          },
          "execution_count": 153
        }
      ]
    },
    {
      "cell_type": "code",
      "metadata": {
        "id": "2yGBsngLUPju",
        "outputId": "66d4943c-248f-483c-c19c-2846d948cc74",
        "colab": {
          "base_uri": "https://localhost:8080/",
          "height": 431
        }
      },
      "source": [
        "X_train #df_train"
      ],
      "execution_count": null,
      "outputs": [
        {
          "output_type": "execute_result",
          "data": {
            "text/html": [
              "<div>\n",
              "<style scoped>\n",
              "    .dataframe tbody tr th:only-of-type {\n",
              "        vertical-align: middle;\n",
              "    }\n",
              "\n",
              "    .dataframe tbody tr th {\n",
              "        vertical-align: top;\n",
              "    }\n",
              "\n",
              "    .dataframe thead th {\n",
              "        text-align: right;\n",
              "    }\n",
              "</style>\n",
              "<table border=\"1\" class=\"dataframe\">\n",
              "  <thead>\n",
              "    <tr style=\"text-align: right;\">\n",
              "      <th></th>\n",
              "      <th>Low</th>\n",
              "      <th>High</th>\n",
              "      <th>Open</th>\n",
              "    </tr>\n",
              "    <tr>\n",
              "      <th>Date</th>\n",
              "      <th></th>\n",
              "      <th></th>\n",
              "      <th></th>\n",
              "    </tr>\n",
              "  </thead>\n",
              "  <tbody>\n",
              "    <tr>\n",
              "      <th>2019-12-31</th>\n",
              "      <td>1329.09</td>\n",
              "      <td>1338</td>\n",
              "      <td>1330.11</td>\n",
              "    </tr>\n",
              "    <tr>\n",
              "      <th>2019-12-30</th>\n",
              "      <td>1334.02</td>\n",
              "      <td>1353</td>\n",
              "      <td>1350</td>\n",
              "    </tr>\n",
              "    <tr>\n",
              "      <th>2019-12-27</th>\n",
              "      <td>1349.31</td>\n",
              "      <td>1364.53</td>\n",
              "      <td>1362.99</td>\n",
              "    </tr>\n",
              "    <tr>\n",
              "      <th>2019-12-26</th>\n",
              "      <td>1344.47</td>\n",
              "      <td>1361.33</td>\n",
              "      <td>1346.17</td>\n",
              "    </tr>\n",
              "    <tr>\n",
              "      <th>2019-12-24</th>\n",
              "      <td>1342.78</td>\n",
              "      <td>1350.26</td>\n",
              "      <td>1348.5</td>\n",
              "    </tr>\n",
              "    <tr>\n",
              "      <th>...</th>\n",
              "      <td>...</td>\n",
              "      <td>...</td>\n",
              "      <td>...</td>\n",
              "    </tr>\n",
              "    <tr>\n",
              "      <th>2014-04-02</th>\n",
              "      <td>562.19</td>\n",
              "      <td>604.83</td>\n",
              "      <td>565.106</td>\n",
              "    </tr>\n",
              "    <tr>\n",
              "      <th>2014-04-01</th>\n",
              "      <td>558.71</td>\n",
              "      <td>568.45</td>\n",
              "      <td>558.71</td>\n",
              "    </tr>\n",
              "    <tr>\n",
              "      <th>2014-03-31</th>\n",
              "      <td>556.93</td>\n",
              "      <td>567</td>\n",
              "      <td>566.89</td>\n",
              "    </tr>\n",
              "    <tr>\n",
              "      <th>2014-03-28</th>\n",
              "      <td>558.67</td>\n",
              "      <td>566.43</td>\n",
              "      <td>561.2</td>\n",
              "    </tr>\n",
              "    <tr>\n",
              "      <th>2014-03-27</th>\n",
              "      <td>552.92</td>\n",
              "      <td>568</td>\n",
              "      <td>568</td>\n",
              "    </tr>\n",
              "  </tbody>\n",
              "</table>\n",
              "<p>1452 rows × 3 columns</p>\n",
              "</div>"
            ],
            "text/plain": [
              "                Low     High     Open\n",
              "Date                                 \n",
              "2019-12-31  1329.09     1338  1330.11\n",
              "2019-12-30  1334.02     1353     1350\n",
              "2019-12-27  1349.31  1364.53  1362.99\n",
              "2019-12-26  1344.47  1361.33  1346.17\n",
              "2019-12-24  1342.78  1350.26   1348.5\n",
              "...             ...      ...      ...\n",
              "2014-04-02   562.19   604.83  565.106\n",
              "2014-04-01   558.71   568.45   558.71\n",
              "2014-03-31   556.93      567   566.89\n",
              "2014-03-28   558.67   566.43    561.2\n",
              "2014-03-27   552.92      568      568\n",
              "\n",
              "[1452 rows x 3 columns]"
            ]
          },
          "metadata": {
            "tags": []
          },
          "execution_count": 156
        }
      ]
    },
    {
      "cell_type": "code",
      "metadata": {
        "id": "e2dpVsn_UPNh",
        "outputId": "fa0315dd-c6c6-4909-94cd-88a52e52a997",
        "colab": {
          "base_uri": "https://localhost:8080/",
          "height": 431
        }
      },
      "source": [
        "X_test"
      ],
      "execution_count": null,
      "outputs": [
        {
          "output_type": "execute_result",
          "data": {
            "text/html": [
              "<div>\n",
              "<style scoped>\n",
              "    .dataframe tbody tr th:only-of-type {\n",
              "        vertical-align: middle;\n",
              "    }\n",
              "\n",
              "    .dataframe tbody tr th {\n",
              "        vertical-align: top;\n",
              "    }\n",
              "\n",
              "    .dataframe thead th {\n",
              "        text-align: right;\n",
              "    }\n",
              "</style>\n",
              "<table border=\"1\" class=\"dataframe\">\n",
              "  <thead>\n",
              "    <tr style=\"text-align: right;\">\n",
              "      <th></th>\n",
              "      <th>Low</th>\n",
              "      <th>High</th>\n",
              "      <th>Open</th>\n",
              "    </tr>\n",
              "    <tr>\n",
              "      <th>Date</th>\n",
              "      <th></th>\n",
              "      <th></th>\n",
              "      <th></th>\n",
              "    </tr>\n",
              "  </thead>\n",
              "  <tbody>\n",
              "    <tr>\n",
              "      <th>2020-10-09</th>\n",
              "      <td>1489.45</td>\n",
              "      <td>1516.52</td>\n",
              "      <td>1494.7</td>\n",
              "    </tr>\n",
              "    <tr>\n",
              "      <th>2020-10-08</th>\n",
              "      <td>1465.09</td>\n",
              "      <td>1490</td>\n",
              "      <td>1465.09</td>\n",
              "    </tr>\n",
              "    <tr>\n",
              "      <th>2020-10-07</th>\n",
              "      <td>1436</td>\n",
              "      <td>1468.96</td>\n",
              "      <td>1464.29</td>\n",
              "    </tr>\n",
              "    <tr>\n",
              "      <th>2020-10-06</th>\n",
              "      <td>1448.59</td>\n",
              "      <td>1486.76</td>\n",
              "      <td>1475.58</td>\n",
              "    </tr>\n",
              "    <tr>\n",
              "      <th>2020-10-05</th>\n",
              "      <td>1464.27</td>\n",
              "      <td>1488.21</td>\n",
              "      <td>1466.21</td>\n",
              "    </tr>\n",
              "    <tr>\n",
              "      <th>...</th>\n",
              "      <td>...</td>\n",
              "      <td>...</td>\n",
              "      <td>...</td>\n",
              "    </tr>\n",
              "    <tr>\n",
              "      <th>2020-01-08</th>\n",
              "      <td>1390.84</td>\n",
              "      <td>1411.58</td>\n",
              "      <td>1392.08</td>\n",
              "    </tr>\n",
              "    <tr>\n",
              "      <th>2020-01-07</th>\n",
              "      <td>1390.38</td>\n",
              "      <td>1402.99</td>\n",
              "      <td>1397.94</td>\n",
              "    </tr>\n",
              "    <tr>\n",
              "      <th>2020-01-06</th>\n",
              "      <td>1350</td>\n",
              "      <td>1396.5</td>\n",
              "      <td>1350</td>\n",
              "    </tr>\n",
              "    <tr>\n",
              "      <th>2020-01-03</th>\n",
              "      <td>1345.54</td>\n",
              "      <td>1372.5</td>\n",
              "      <td>1347.86</td>\n",
              "    </tr>\n",
              "    <tr>\n",
              "      <th>2020-01-02</th>\n",
              "      <td>1341.55</td>\n",
              "      <td>1368.14</td>\n",
              "      <td>1341.55</td>\n",
              "    </tr>\n",
              "  </tbody>\n",
              "</table>\n",
              "<p>196 rows × 3 columns</p>\n",
              "</div>"
            ],
            "text/plain": [
              "                Low     High     Open\n",
              "Date                                 \n",
              "2020-10-09  1489.45  1516.52   1494.7\n",
              "2020-10-08  1465.09     1490  1465.09\n",
              "2020-10-07     1436  1468.96  1464.29\n",
              "2020-10-06  1448.59  1486.76  1475.58\n",
              "2020-10-05  1464.27  1488.21  1466.21\n",
              "...             ...      ...      ...\n",
              "2020-01-08  1390.84  1411.58  1392.08\n",
              "2020-01-07  1390.38  1402.99  1397.94\n",
              "2020-01-06     1350   1396.5     1350\n",
              "2020-01-03  1345.54   1372.5  1347.86\n",
              "2020-01-02  1341.55  1368.14  1341.55\n",
              "\n",
              "[196 rows x 3 columns]"
            ]
          },
          "metadata": {
            "tags": []
          },
          "execution_count": 157
        }
      ]
    },
    {
      "cell_type": "markdown",
      "metadata": {
        "id": "WJWlExScVTRF"
      },
      "source": [
        "To make the data in the training set lie in the same range of 0 to 1 in order to improve accuracy"
      ]
    },
    {
      "cell_type": "markdown",
      "metadata": {
        "id": "nyUzY4naVyTS"
      },
      "source": [
        "We will read the data for first 60 days and then predict for the 61st day. \n",
        "Then we will hop ahead by one day and read the next chunk of data for next sixty days.\n",
        "\n",
        "\n",
        "![image-257.png](data:image/png;base64,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)"
      ]
    },
    {
      "cell_type": "code",
      "metadata": {
        "id": "V7tkN2H_RTTy"
      },
      "source": [
        "x_scaler= MinMaxScaler()\n",
        "y_scaler = MinMaxScaler()\n",
        "\n",
        "X_train_scaled= x_scaler.fit_transform(X_train) \n",
        "y_train_scaled= y_scaler.fit_transform(y_train)\n",
        "\n",
        "X_test_scaled = x_scaler.transform(X_test)\n",
        "y_test_scaled= y_scaler.transform(y_test)"
      ],
      "execution_count": null,
      "outputs": []
    },
    {
      "cell_type": "code",
      "metadata": {
        "id": "G1qmg9zhVljl",
        "outputId": "786542f7-a0b5-4696-e4c4-21612c8d6f21",
        "colab": {
          "base_uri": "https://localhost:8080/",
          "height": 34
        }
      },
      "source": [
        "X_test_scaled.shape,y_test_scaled.shape,X_train_scaled.shape,y_train_scaled.shape"
      ],
      "execution_count": null,
      "outputs": [
        {
          "output_type": "execute_result",
          "data": {
            "text/plain": [
              "((196, 3), (196, 1), (1452, 3), (1452, 1))"
            ]
          },
          "metadata": {
            "tags": []
          },
          "execution_count": 159
        }
      ]
    },
    {
      "cell_type": "code",
      "metadata": {
        "id": "wfRAaOa9OgnO"
      },
      "source": [
        "def create_dataset(X, y, time_steps=1):\n",
        "    Xs, ys = [], []\n",
        "    for i in range(len(X) - time_steps):\n",
        "        v = X[i:(i + time_steps)]\n",
        "        Xs.append(v)\n",
        "        ys.append(y[i + time_steps])\n",
        "    return np.array(Xs), np.array(ys)\n",
        "\n",
        "X_train_ds, y_train_ds = create_dataset(X_train_scaled,y_train_scaled,time_steps=60)\n",
        "X_test_ds, y_test_ds = create_dataset(X_test_scaled,y_test_scaled,time_steps=60)"
      ],
      "execution_count": null,
      "outputs": []
    },
    {
      "cell_type": "code",
      "metadata": {
        "id": "rFRc0AnRRv9B",
        "outputId": "dcf96ea4-aa23-481a-ab05-9f3ab90fd087",
        "colab": {
          "base_uri": "https://localhost:8080/",
          "height": 34
        }
      },
      "source": [
        "X_train_ds.shape,y_train_ds.shape,X_test_ds.shape,y_test_ds.shape,"
      ],
      "execution_count": null,
      "outputs": [
        {
          "output_type": "execute_result",
          "data": {
            "text/plain": [
              "((1392, 60, 3), (1392, 1), (136, 60, 3), (136, 1))"
            ]
          },
          "metadata": {
            "tags": []
          },
          "execution_count": 161
        }
      ]
    },
    {
      "cell_type": "markdown",
      "metadata": {
        "id": "uhA1uLaWVcDL"
      },
      "source": [
        "# Building LSTM"
      ]
    },
    {
      "cell_type": "code",
      "metadata": {
        "id": "OKBNQV9FOoep"
      },
      "source": [
        "from tensorflow.keras import Sequential\n",
        "from tensorflow.keras.layers import Dense, LSTM, Dropout"
      ],
      "execution_count": null,
      "outputs": []
    },
    {
      "cell_type": "code",
      "metadata": {
        "id": "nbfWwXubOrix"
      },
      "source": [
        "regressor = Sequential()\n",
        "\n",
        "regressor.add(LSTM(units = 150,input_shape = (X_train_ds.shape[1],3)))\n",
        "regressor.add(Dropout(0.2))\n",
        "\n",
        "regressor.add(Dense(64,activation='relu'))\n",
        "regressor.add(Dense(units = 1))"
      ],
      "execution_count": null,
      "outputs": []
    },
    {
      "cell_type": "code",
      "metadata": {
        "id": "pG1147GOOvMf",
        "outputId": "57461294-6351-4a80-b563-efcf7caef030",
        "colab": {
          "base_uri": "https://localhost:8080/",
          "height": 286
        }
      },
      "source": [
        "regressor.summary()"
      ],
      "execution_count": null,
      "outputs": [
        {
          "output_type": "stream",
          "text": [
            "Model: \"sequential_8\"\n",
            "_________________________________________________________________\n",
            "Layer (type)                 Output Shape              Param #   \n",
            "=================================================================\n",
            "lstm_15 (LSTM)               (None, 150)               92400     \n",
            "_________________________________________________________________\n",
            "dropout_14 (Dropout)         (None, 150)               0         \n",
            "_________________________________________________________________\n",
            "dense_11 (Dense)             (None, 64)                9664      \n",
            "_________________________________________________________________\n",
            "dense_12 (Dense)             (None, 1)                 65        \n",
            "=================================================================\n",
            "Total params: 102,129\n",
            "Trainable params: 102,129\n",
            "Non-trainable params: 0\n",
            "_________________________________________________________________\n"
          ],
          "name": "stdout"
        }
      ]
    },
    {
      "cell_type": "code",
      "metadata": {
        "id": "rE578GiEOzAL",
        "outputId": "d00f9c97-7b45-4204-b056-4c71c4124739",
        "colab": {
          "base_uri": "https://localhost:8080/",
          "height": 370
        }
      },
      "source": [
        "regressor.compile(optimizer='adam', loss = 'mean_squared_error',metrics='mae')\n",
        "regressor.fit(X_train_ds, y_train_ds, epochs=10, batch_size=32)"
      ],
      "execution_count": null,
      "outputs": [
        {
          "output_type": "stream",
          "text": [
            "Epoch 1/10\n",
            "44/44 [==============================] - 3s 77ms/step - loss: 0.0161 - mae: 0.0721\n",
            "Epoch 2/10\n",
            "44/44 [==============================] - 3s 77ms/step - loss: 0.0016 - mae: 0.0282\n",
            "Epoch 3/10\n",
            "44/44 [==============================] - 3s 76ms/step - loss: 0.0013 - mae: 0.0257\n",
            "Epoch 4/10\n",
            "44/44 [==============================] - 3s 75ms/step - loss: 0.0012 - mae: 0.0246\n",
            "Epoch 5/10\n",
            "44/44 [==============================] - 3s 78ms/step - loss: 0.0013 - mae: 0.0255\n",
            "Epoch 6/10\n",
            "44/44 [==============================] - 3s 76ms/step - loss: 0.0010 - mae: 0.0229\n",
            "Epoch 7/10\n",
            "44/44 [==============================] - 3s 76ms/step - loss: 0.0010 - mae: 0.0228\n",
            "Epoch 8/10\n",
            "44/44 [==============================] - 3s 77ms/step - loss: 9.3713e-04 - mae: 0.0218\n",
            "Epoch 9/10\n",
            "44/44 [==============================] - 4s 84ms/step - loss: 8.3102e-04 - mae: 0.0207\n",
            "Epoch 10/10\n",
            "44/44 [==============================] - 4s 84ms/step - loss: 9.3307e-04 - mae: 0.0214\n"
          ],
          "name": "stdout"
        },
        {
          "output_type": "execute_result",
          "data": {
            "text/plain": [
              "<tensorflow.python.keras.callbacks.History at 0x7fa1178ea550>"
            ]
          },
          "metadata": {
            "tags": []
          },
          "execution_count": 164
        }
      ]
    },
    {
      "cell_type": "code",
      "metadata": {
        "id": "c4NwPAoAPgPS"
      },
      "source": [
        "y_pred = regressor.predict(X_test_ds)"
      ],
      "execution_count": null,
      "outputs": []
    },
    {
      "cell_type": "code",
      "metadata": {
        "id": "3Fck8JwbZSHl",
        "outputId": "efdd40b8-48b8-4601-a438-35d9f1f6736b",
        "colab": {
          "base_uri": "https://localhost:8080/",
          "height": 34
        }
      },
      "source": [
        "print(y_pred.shape)\n",
        "\n",
        "y_pred= y_pred.reshape(136,1)"
      ],
      "execution_count": null,
      "outputs": [
        {
          "output_type": "stream",
          "text": [
            "(136, 1)\n"
          ],
          "name": "stdout"
        }
      ]
    },
    {
      "cell_type": "code",
      "metadata": {
        "id": "33yVJN5APjDn"
      },
      "source": [
        "y_pred_inverse_scaled= y_scaler.inverse_transform(y_pred)\n",
        "y_test_inverse_scaled= y_scaler.inverse_transform(y_test_ds)"
      ],
      "execution_count": null,
      "outputs": []
    },
    {
      "cell_type": "code",
      "metadata": {
        "id": "a2ioerFRbSS9",
        "outputId": "7fc5fed2-2092-4d33-f17e-2c7f25ea670d",
        "colab": {
          "base_uri": "https://localhost:8080/",
          "height": 34
        }
      },
      "source": [
        "y_test_inverse_scaled.shape,y_pred_inverse_scaled.shape"
      ],
      "execution_count": null,
      "outputs": [
        {
          "output_type": "execute_result",
          "data": {
            "text/plain": [
              "((136, 1), (136, 1))"
            ]
          },
          "metadata": {
            "tags": []
          },
          "execution_count": 146
        }
      ]
    },
    {
      "cell_type": "code",
      "metadata": {
        "id": "TxOndla2PqmX",
        "outputId": "b7a88180-a82d-4a11-c511-ca5b618bc77e",
        "colab": {
          "base_uri": "https://localhost:8080/",
          "height": 34
        }
      },
      "source": [
        "mean_absolute_error(y_test_inverse_scaled,y_pred_inverse_scaled),np.sqrt(mean_squared_error(y_test_inverse_scaled,y_pred_inverse_scaled))"
      ],
      "execution_count": null,
      "outputs": [
        {
          "output_type": "execute_result",
          "data": {
            "text/plain": [
              "(28.39865877039293, 40.452811768830244)"
            ]
          },
          "metadata": {
            "tags": []
          },
          "execution_count": 169
        }
      ]
    },
    {
      "cell_type": "code",
      "metadata": {
        "id": "MaTS3knaPvrl",
        "outputId": "ce535945-9a24-40cb-b43c-45c38953e124",
        "colab": {
          "base_uri": "https://localhost:8080/",
          "height": 282
        }
      },
      "source": [
        "plt.plot(df['Close'])"
      ],
      "execution_count": null,
      "outputs": [
        {
          "output_type": "execute_result",
          "data": {
            "text/plain": [
              "[<matplotlib.lines.Line2D at 0x7fa116c18da0>]"
            ]
          },
          "metadata": {
            "tags": []
          },
          "execution_count": 170
        },
        {
          "output_type": "display_data",
          "data": {
            "image/png": "[encoded data removed]",
            "text/plain": [
              "<Figure size 432x288 with 1 Axes>"
            ]
          },
          "metadata": {
            "tags": [],
            "needs_background": "light"
          }
        }
      ]
    },
    {
      "cell_type": "code",
      "metadata": {
        "id": "TpL5Fk99aNag",
        "outputId": "3c0a1191-f3e1-4faf-cec3-189193774501",
        "colab": {
          "base_uri": "https://localhost:8080/",
          "height": 265
        }
      },
      "source": [
        "plt.plot(y_test_inverse_scaled)\n",
        "plt.plot(y_pred_inverse_scaled)\n",
        "plt.show()"
      ],
      "execution_count": null,
      "outputs": [
        {
          "output_type": "display_data",
          "data": {
            "image/png": "[encoded data removed]",
            "text/plain": [
              "<Figure size 432x288 with 1 Axes>"
            ]
          },
          "metadata": {
            "tags": [],
            "needs_background": "light"
          }
        }
      ]
    },
    {
      "cell_type": "code",
      "metadata": {
        "id": "IpEIsRl3aNNy"
      },
      "source": [
        ""
      ],
      "execution_count": null,
      "outputs": []
    },
    {
      "cell_type": "markdown",
      "metadata": {
        "id": "F0xQqr_fWp9V"
      },
      "source": [
        "# Visualization"
      ]
    },
    {
      "cell_type": "code",
      "metadata": {
        "id": "atHmgQSNPyn0",
        "outputId": "8965f990-41d8-4bf3-8c5e-8432a9217fca",
        "colab": {
          "base_uri": "https://localhost:8080/",
          "height": 350
        }
      },
      "source": [
        "plt.figure(figsize=(14,5))\n",
        "plt.plot(y_test_inverse_scaled, color = 'red', label = 'Real Google Stock Price')\n",
        "plt.plot(y_pred_inverse_scaled, color = 'blue', label = 'Predicted Google Stock Price')\n",
        "plt.title('Google Stock Price Prediction')\n",
        "plt.xlabel('Time')\n",
        "plt.ylabel('Google Stock Price')\n",
        "plt.legend()\n",
        "plt.savefig(\"Plot.png\")"
      ],
      "execution_count": null,
      "outputs": [
        {
          "output_type": "display_data",
          "data": {
            "image/png": "[encoded data removed]",
            "text/plain": [
              "<Figure size 1008x360 with 1 Axes>"
            ]
          },
          "metadata": {
            "tags": [],
            "needs_background": "light"
          }
        }
      ]
    },
    {
      "cell_type": "code",
      "metadata": {
        "id": "So8w9EdaP1ff"
      },
      "source": [
        ""
      ],
      "execution_count": null,
      "outputs": []
    }
  ]
}