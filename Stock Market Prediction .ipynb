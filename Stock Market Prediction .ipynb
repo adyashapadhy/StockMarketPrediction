{
 "cells": [
  {
   "cell_type": "code",
   "execution_count": 29,
   "metadata": {},
   "outputs": [],
   "source": [
    "#Importing all libraries \n",
    "\n",
    "from pandas_datareader import data\n",
    "import matplotlib.pyplot as plt #visualization of data\n",
    "import pandas as pd #used to read the datset \n",
    "import datetime as dt\n",
    "import datetime\n",
    "import urllib.request, json\n",
    "import os\n",
    "import numpy as np #perform basic array operations\n",
    "import tensorflow as tf \n",
    "from sklearn.preprocessing import MinMaxScaler #used to scale the data\n",
    "\n",
    "\n",
    "\n",
    "# API KEY: RWL0I1BNSUZDQFC7"
   ]
  },
  {
   "cell_type": "markdown",
   "metadata": {},
   "source": [
    "### Importing data by using API"
   ]
  },
  {
   "cell_type": "code",
   "execution_count": 30,
   "metadata": {},
   "outputs": [
    {
     "name": "stdout",
     "output_type": "stream",
     "text": [
      "File already exists. Loading data from CSV\n"
     ]
    }
   ],
   "source": [
    "data_source = 'alphavantage'\n",
    "\n",
    "if data_source == 'alphavantage':\n",
    "    # Loading data from Alphavantage \n",
    "\n",
    "    api_key = 'RWL0I1BNSUZDQFC7'\n",
    "\n",
    "    ticker = \"GOOG\"\n",
    "\n",
    "    # JSON file with all the stock market data\n",
    "    url_string = \"https://www.alphavantage.co/query?function=TIME_SERIES_DAILY&symbol=%s&outputsize=full&apikey=%s\"%(ticker,api_key)\n",
    "\n",
    "    # Saving the data to this file\n",
    "    file_to_save = 'stock_market_data-%s.csv'%ticker\n",
    "\n",
    "    # If you haven't already saved data,\n",
    "    # Go ahead and grab the data from the url\n",
    "    # And store date, low, high, volume, close, open values to a Pandas DataFrame\n",
    "    if not os.path.exists(file_to_save):\n",
    "        with urllib.request.urlopen(url_string) as url:\n",
    "            data = json.loads(url.read().decode())\n",
    "            # extract stock market data\n",
    "            data = data['Time Series (Daily)']\n",
    "            df = pd.DataFrame(columns=['Date','Low','High','Close','Open'])\n",
    "            for k,v in data.items():\n",
    "                date = dt.datetime.strptime(k, '%Y-%m-%d')\n",
    "                data_row = [date.date(),float(v['3. low']),float(v['2. high']),\n",
    "                            float(v['4. close']),float(v['1. open'])]\n",
    "                df.loc[-1,:] = data_row\n",
    "                df.index = df.index + 1\n",
    "        print('Data saved to : %s'%file_to_save)        \n",
    "        df.to_csv(file_to_save)\n",
    "\n",
    "    # If the data is already there, just load it from the CSV\n",
    "    else:\n",
    "        print('File already exists. Loading data from CSV')\n",
    "        df = pd.read_csv(file_to_save)\n",
    "\n",
    "else:\n",
    "\n",
    "    # Loading localy saved data\n",
    "    df = pd.read_csv(\"GOOG.csv\")\n",
    "    print('Loaded data from localy saved data')"
   ]
  },
  {
   "cell_type": "code",
   "execution_count": 31,
   "metadata": {},
   "outputs": [
    {
     "data": {
      "text/html": [
       "<div>\n",
       "<style scoped>\n",
       "    .dataframe tbody tr th:only-of-type {\n",
       "        vertical-align: middle;\n",
       "    }\n",
       "\n",
       "    .dataframe tbody tr th {\n",
       "        vertical-align: top;\n",
       "    }\n",
       "\n",
       "    .dataframe thead th {\n",
       "        text-align: right;\n",
       "    }\n",
       "</style>\n",
       "<table border=\"1\" class=\"dataframe\">\n",
       "  <thead>\n",
       "    <tr style=\"text-align: right;\">\n",
       "      <th></th>\n",
       "      <th>Unnamed: 0</th>\n",
       "      <th>Date</th>\n",
       "      <th>Low</th>\n",
       "      <th>High</th>\n",
       "      <th>Close</th>\n",
       "      <th>Open</th>\n",
       "    </tr>\n",
       "  </thead>\n",
       "  <tbody>\n",
       "    <tr>\n",
       "      <td>0</td>\n",
       "      <td>1646</td>\n",
       "      <td>2020-10-08</td>\n",
       "      <td>1465.0900</td>\n",
       "      <td>1490.00</td>\n",
       "      <td>1485.93</td>\n",
       "      <td>1465.09</td>\n",
       "    </tr>\n",
       "    <tr>\n",
       "      <td>1</td>\n",
       "      <td>1645</td>\n",
       "      <td>2020-10-07</td>\n",
       "      <td>1436.0000</td>\n",
       "      <td>1468.96</td>\n",
       "      <td>1460.29</td>\n",
       "      <td>1464.29</td>\n",
       "    </tr>\n",
       "    <tr>\n",
       "      <td>2</td>\n",
       "      <td>1644</td>\n",
       "      <td>2020-10-06</td>\n",
       "      <td>1448.5901</td>\n",
       "      <td>1486.76</td>\n",
       "      <td>1453.44</td>\n",
       "      <td>1475.58</td>\n",
       "    </tr>\n",
       "    <tr>\n",
       "      <td>3</td>\n",
       "      <td>1643</td>\n",
       "      <td>2020-10-05</td>\n",
       "      <td>1464.2700</td>\n",
       "      <td>1488.21</td>\n",
       "      <td>1486.02</td>\n",
       "      <td>1466.21</td>\n",
       "    </tr>\n",
       "    <tr>\n",
       "      <td>4</td>\n",
       "      <td>1642</td>\n",
       "      <td>2020-10-02</td>\n",
       "      <td>1450.9200</td>\n",
       "      <td>1483.20</td>\n",
       "      <td>1458.42</td>\n",
       "      <td>1462.03</td>\n",
       "    </tr>\n",
       "  </tbody>\n",
       "</table>\n",
       "</div>"
      ],
      "text/plain": [
       "   Unnamed: 0        Date        Low     High    Close     Open\n",
       "0        1646  2020-10-08  1465.0900  1490.00  1485.93  1465.09\n",
       "1        1645  2020-10-07  1436.0000  1468.96  1460.29  1464.29\n",
       "2        1644  2020-10-06  1448.5901  1486.76  1453.44  1475.58\n",
       "3        1643  2020-10-05  1464.2700  1488.21  1486.02  1466.21\n",
       "4        1642  2020-10-02  1450.9200  1483.20  1458.42  1462.03"
      ]
     },
     "execution_count": 31,
     "metadata": {},
     "output_type": "execute_result"
    }
   ],
   "source": [
    "df.head()"
   ]
  },
  {
   "cell_type": "code",
   "execution_count": 32,
   "metadata": {},
   "outputs": [
    {
     "data": {
      "text/html": [
       "<div>\n",
       "<style scoped>\n",
       "    .dataframe tbody tr th:only-of-type {\n",
       "        vertical-align: middle;\n",
       "    }\n",
       "\n",
       "    .dataframe tbody tr th {\n",
       "        vertical-align: top;\n",
       "    }\n",
       "\n",
       "    .dataframe thead th {\n",
       "        text-align: right;\n",
       "    }\n",
       "</style>\n",
       "<table border=\"1\" class=\"dataframe\">\n",
       "  <thead>\n",
       "    <tr style=\"text-align: right;\">\n",
       "      <th></th>\n",
       "      <th>Unnamed: 0</th>\n",
       "      <th>Date</th>\n",
       "      <th>Low</th>\n",
       "      <th>High</th>\n",
       "      <th>Close</th>\n",
       "      <th>Open</th>\n",
       "    </tr>\n",
       "  </thead>\n",
       "  <tbody>\n",
       "    <tr>\n",
       "      <td>1642</td>\n",
       "      <td>4</td>\n",
       "      <td>2014-04-02</td>\n",
       "      <td>562.19</td>\n",
       "      <td>604.83</td>\n",
       "      <td>567.00</td>\n",
       "      <td>565.106</td>\n",
       "    </tr>\n",
       "    <tr>\n",
       "      <td>1643</td>\n",
       "      <td>3</td>\n",
       "      <td>2014-04-01</td>\n",
       "      <td>558.71</td>\n",
       "      <td>568.45</td>\n",
       "      <td>567.16</td>\n",
       "      <td>558.710</td>\n",
       "    </tr>\n",
       "    <tr>\n",
       "      <td>1644</td>\n",
       "      <td>2</td>\n",
       "      <td>2014-03-31</td>\n",
       "      <td>556.93</td>\n",
       "      <td>567.00</td>\n",
       "      <td>556.97</td>\n",
       "      <td>566.890</td>\n",
       "    </tr>\n",
       "    <tr>\n",
       "      <td>1645</td>\n",
       "      <td>1</td>\n",
       "      <td>2014-03-28</td>\n",
       "      <td>558.67</td>\n",
       "      <td>566.43</td>\n",
       "      <td>559.99</td>\n",
       "      <td>561.200</td>\n",
       "    </tr>\n",
       "    <tr>\n",
       "      <td>1646</td>\n",
       "      <td>0</td>\n",
       "      <td>2014-03-27</td>\n",
       "      <td>552.92</td>\n",
       "      <td>568.00</td>\n",
       "      <td>558.46</td>\n",
       "      <td>568.000</td>\n",
       "    </tr>\n",
       "  </tbody>\n",
       "</table>\n",
       "</div>"
      ],
      "text/plain": [
       "      Unnamed: 0        Date     Low    High   Close     Open\n",
       "1642           4  2014-04-02  562.19  604.83  567.00  565.106\n",
       "1643           3  2014-04-01  558.71  568.45  567.16  558.710\n",
       "1644           2  2014-03-31  556.93  567.00  556.97  566.890\n",
       "1645           1  2014-03-28  558.67  566.43  559.99  561.200\n",
       "1646           0  2014-03-27  552.92  568.00  558.46  568.000"
      ]
     },
     "execution_count": 32,
     "metadata": {},
     "output_type": "execute_result"
    }
   ],
   "source": [
    "df.tail()"
   ]
  },
  {
   "cell_type": "markdown",
   "metadata": {},
   "source": [
    "### Spliting data into training and testing sets \n"
   ]
  },
  {
   "cell_type": "markdown",
   "metadata": {},
   "source": [
    "The training set will have data from 2014 to 2019 \n",
    "and the test set will have data from 2020."
   ]
  },
  {
   "cell_type": "code",
   "execution_count": 33,
   "metadata": {},
   "outputs": [
    {
     "name": "stdout",
     "output_type": "stream",
     "text": [
      "      Unnamed: 0       Date      Low     High    Close      Open\n",
      "195         1451 2019-12-31  1329.09  1338.00  1337.02  1330.110\n",
      "196         1450 2019-12-30  1334.02  1353.00  1336.14  1350.000\n",
      "197         1449 2019-12-27  1349.31  1364.53  1351.89  1362.990\n",
      "198         1448 2019-12-26  1344.47  1361.33  1360.40  1346.170\n",
      "199         1447 2019-12-24  1342.78  1350.26  1343.56  1348.500\n",
      "...          ...        ...      ...      ...      ...       ...\n",
      "1642           4 2014-04-02   562.19   604.83   567.00   565.106\n",
      "1643           3 2014-04-01   558.71   568.45   567.16   558.710\n",
      "1644           2 2014-03-31   556.93   567.00   556.97   566.890\n",
      "1645           1 2014-03-28   558.67   566.43   559.99   561.200\n",
      "1646           0 2014-03-27   552.92   568.00   558.46   568.000\n",
      "\n",
      "[1452 rows x 6 columns]\n"
     ]
    },
    {
     "data": {
      "text/plain": [
       "(1452, 6)"
      ]
     },
     "execution_count": 33,
     "metadata": {},
     "output_type": "execute_result"
    }
   ],
   "source": [
    "\n",
    "date = datetime.datetime(2020,1,1)\n",
    "\n",
    "df['Date'] = pd.to_datetime(df['Date'])\n",
    "data_train = df[df['Date'] < date]\n",
    "data_test = df[df['Date'] >= date]\n",
    "print(data_train)\n",
    "data_train.shape\n",
    "\n"
   ]
  },
  {
   "cell_type": "code",
   "execution_count": 34,
   "metadata": {},
   "outputs": [],
   "source": [
    "data_train = data_train.drop(['Date'], axis = 1)\n"
   ]
  },
  {
   "cell_type": "code",
   "execution_count": 35,
   "metadata": {},
   "outputs": [
    {
     "name": "stdout",
     "output_type": "stream",
     "text": [
      "[[1.00000000e+00 9.72743351e-01 9.68930662e-01 9.72197278e-01\n",
      "  9.61735927e-01]\n",
      " [9.99310820e-01 9.78442048e-01 9.86191406e-01 9.71184177e-01\n",
      "  9.84632209e-01]\n",
      " [9.98621640e-01 9.96116101e-01 9.99459163e-01 9.89316387e-01\n",
      "  9.99585588e-01]\n",
      " ...\n",
      " [1.37835975e-03 8.01863347e-02 8.17284678e-02 7.41636159e-02\n",
      "  8.31587429e-02]\n",
      " [6.89179876e-04 8.21976396e-02 8.10725596e-02 7.76403951e-02\n",
      "  7.66087257e-02]\n",
      " [0.00000000e+00 7.55510860e-02 8.28791840e-02 7.58789805e-02\n",
      "  8.44365143e-02]]\n"
     ]
    }
   ],
   "source": [
    "#to make the data in the training set lie in the same range of 0 to 1 in order to improve accuracy \n",
    "scaler = MinMaxScaler()\n",
    "data_train = scaler.fit_transform(data_train)\n",
    "print(data_train)"
   ]
  },
  {
   "cell_type": "code",
   "execution_count": 36,
   "metadata": {},
   "outputs": [],
   "source": [
    "#We will read the data for first 60 days and then predict for the 61st day. \n",
    "#Then we will hop ahead by one day and read the next chunk of data for next sixty days.\n",
    "X_train = []\n",
    "y_train = []\n",
    "\n",
    "for i in range(60, data_train.shape[0]):\n",
    "    X_train.append(data_train[i-60:i])\n",
    "    y_train.append(data_train[i, 0])\n",
    "    \n",
    "X_train, y_train = np.array(X_train), np.array(y_train)"
   ]
  },
  {
   "cell_type": "code",
   "execution_count": 37,
   "metadata": {},
   "outputs": [
    {
     "data": {
      "text/plain": [
       "(1392, 60, 5)"
      ]
     },
     "execution_count": 37,
     "metadata": {},
     "output_type": "execute_result"
    }
   ],
   "source": [
    "X_train.shape"
   ]
  },
  {
   "cell_type": "markdown",
   "metadata": {},
   "source": [
    "### Building LSTM"
   ]
  },
  {
   "cell_type": "code",
   "execution_count": 38,
   "metadata": {},
   "outputs": [],
   "source": [
    "from tensorflow.keras import Sequential\n",
    "from tensorflow.keras.layers import Dense, LSTM, Dropout"
   ]
  },
  {
   "cell_type": "code",
   "execution_count": 39,
   "metadata": {},
   "outputs": [],
   "source": [
    "regressor = Sequential()\n",
    "\n",
    "regressor.add(LSTM(units = 60, activation = 'relu', return_sequences = True, input_shape = (X_train.shape[1], 5)))\n",
    "regressor.add(Dropout(0.2))\n",
    "\n",
    "regressor.add(LSTM(units = 60, activation = 'relu', return_sequences = True))\n",
    "regressor.add(Dropout(0.2))\n",
    "\n",
    "regressor.add(LSTM(units = 80, activation = 'relu', return_sequences = True))\n",
    "regressor.add(Dropout(0.2))\n",
    "\n",
    "regressor.add(LSTM(units = 120, activation = 'relu'))\n",
    "regressor.add(Dropout(0.2))\n",
    "\n",
    "regressor.add(Dense(units = 1))"
   ]
  },
  {
   "cell_type": "code",
   "execution_count": 40,
   "metadata": {},
   "outputs": [
    {
     "name": "stdout",
     "output_type": "stream",
     "text": [
      "Model: \"sequential_1\"\n",
      "_________________________________________________________________\n",
      "Layer (type)                 Output Shape              Param #   \n",
      "=================================================================\n",
      "lstm_4 (LSTM)                (None, 60, 60)            15840     \n",
      "_________________________________________________________________\n",
      "dropout_4 (Dropout)          (None, 60, 60)            0         \n",
      "_________________________________________________________________\n",
      "lstm_5 (LSTM)                (None, 60, 60)            29040     \n",
      "_________________________________________________________________\n",
      "dropout_5 (Dropout)          (None, 60, 60)            0         \n",
      "_________________________________________________________________\n",
      "lstm_6 (LSTM)                (None, 60, 80)            45120     \n",
      "_________________________________________________________________\n",
      "dropout_6 (Dropout)          (None, 60, 80)            0         \n",
      "_________________________________________________________________\n",
      "lstm_7 (LSTM)                (None, 120)               96480     \n",
      "_________________________________________________________________\n",
      "dropout_7 (Dropout)          (None, 120)               0         \n",
      "_________________________________________________________________\n",
      "dense_1 (Dense)              (None, 1)                 121       \n",
      "=================================================================\n",
      "Total params: 186,601\n",
      "Trainable params: 186,601\n",
      "Non-trainable params: 0\n",
      "_________________________________________________________________\n"
     ]
    }
   ],
   "source": [
    "regressor.summary()"
   ]
  },
  {
   "cell_type": "code",
   "execution_count": 41,
   "metadata": {},
   "outputs": [
    {
     "name": "stdout",
     "output_type": "stream",
     "text": [
      "Train on 1392 samples\n",
      "Epoch 1/20\n",
      "1392/1392 [==============================] - 89s 64ms/sample - loss: 0.0504\n",
      "Epoch 2/20\n",
      "1392/1392 [==============================] - 60s 43ms/sample - loss: 0.0054\n",
      "Epoch 3/20\n",
      "1392/1392 [==============================] - 58s 42ms/sample - loss: 0.0032\n",
      "Epoch 4/20\n",
      "1392/1392 [==============================] - 65s 46ms/sample - loss: 0.0029\n",
      "Epoch 5/20\n",
      "1392/1392 [==============================] - 61s 44ms/sample - loss: 0.0026\n",
      "Epoch 6/20\n",
      "1392/1392 [==============================] - 50s 36ms/sample - loss: 0.0026\n",
      "Epoch 7/20\n",
      "1392/1392 [==============================] - 46s 33ms/sample - loss: 0.0025\n",
      "Epoch 8/20\n",
      "1392/1392 [==============================] - 53s 38ms/sample - loss: 0.0023\n",
      "Epoch 9/20\n",
      "1392/1392 [==============================] - 51s 37ms/sample - loss: 0.0025\n",
      "Epoch 10/20\n",
      "1392/1392 [==============================] - 52s 37ms/sample - loss: 0.0026\n",
      "Epoch 11/20\n",
      "1392/1392 [==============================] - 64s 46ms/sample - loss: 0.0023\n",
      "Epoch 12/20\n",
      "1392/1392 [==============================] - 66s 47ms/sample - loss: 0.0023\n",
      "Epoch 13/20\n",
      "1392/1392 [==============================] - 52s 37ms/sample - loss: 0.0019\n",
      "Epoch 14/20\n",
      "1392/1392 [==============================] - 49s 35ms/sample - loss: 0.0018\n",
      "Epoch 15/20\n",
      "1392/1392 [==============================] - 45s 32ms/sample - loss: 0.0022\n",
      "Epoch 16/20\n",
      "1392/1392 [==============================] - 55s 40ms/sample - loss: 0.0015\n",
      "Epoch 17/20\n",
      "1392/1392 [==============================] - 48s 34ms/sample - loss: 0.0017\n",
      "Epoch 18/20\n",
      "1392/1392 [==============================] - 44s 31ms/sample - loss: 0.0018\n",
      "Epoch 19/20\n",
      "1392/1392 [==============================] - 44s 32ms/sample - loss: 0.0020\n",
      "Epoch 20/20\n",
      "1392/1392 [==============================] - 44s 32ms/sample - loss: 0.0019\n"
     ]
    },
    {
     "data": {
      "text/plain": [
       "<tensorflow.python.keras.callbacks.History at 0x7fe81c6f83d0>"
      ]
     },
     "execution_count": 41,
     "metadata": {},
     "output_type": "execute_result"
    }
   ],
   "source": [
    "regressor.compile(optimizer='adam', loss = 'mean_squared_error')\n",
    "regressor.fit(X_train, y_train, epochs=20, batch_size=32)"
   ]
  },
  {
   "cell_type": "markdown",
   "metadata": {},
   "source": [
    "### Preparing Data set "
   ]
  },
  {
   "cell_type": "code",
   "execution_count": 51,
   "metadata": {},
   "outputs": [
    {
     "data": {
      "text/html": [
       "<div>\n",
       "<style scoped>\n",
       "    .dataframe tbody tr th:only-of-type {\n",
       "        vertical-align: middle;\n",
       "    }\n",
       "\n",
       "    .dataframe tbody tr th {\n",
       "        vertical-align: top;\n",
       "    }\n",
       "\n",
       "    .dataframe thead th {\n",
       "        text-align: right;\n",
       "    }\n",
       "</style>\n",
       "<table border=\"1\" class=\"dataframe\">\n",
       "  <thead>\n",
       "    <tr style=\"text-align: right;\">\n",
       "      <th></th>\n",
       "      <th>Unnamed: 0</th>\n",
       "      <th>Date</th>\n",
       "      <th>Low</th>\n",
       "      <th>High</th>\n",
       "      <th>Close</th>\n",
       "      <th>Open</th>\n",
       "    </tr>\n",
       "  </thead>\n",
       "  <tbody>\n",
       "    <tr>\n",
       "      <td>0</td>\n",
       "      <td>1646</td>\n",
       "      <td>2020-10-08</td>\n",
       "      <td>1465.0900</td>\n",
       "      <td>1490.00</td>\n",
       "      <td>1485.93</td>\n",
       "      <td>1465.09</td>\n",
       "    </tr>\n",
       "    <tr>\n",
       "      <td>1</td>\n",
       "      <td>1645</td>\n",
       "      <td>2020-10-07</td>\n",
       "      <td>1436.0000</td>\n",
       "      <td>1468.96</td>\n",
       "      <td>1460.29</td>\n",
       "      <td>1464.29</td>\n",
       "    </tr>\n",
       "    <tr>\n",
       "      <td>2</td>\n",
       "      <td>1644</td>\n",
       "      <td>2020-10-06</td>\n",
       "      <td>1448.5901</td>\n",
       "      <td>1486.76</td>\n",
       "      <td>1453.44</td>\n",
       "      <td>1475.58</td>\n",
       "    </tr>\n",
       "    <tr>\n",
       "      <td>3</td>\n",
       "      <td>1643</td>\n",
       "      <td>2020-10-05</td>\n",
       "      <td>1464.2700</td>\n",
       "      <td>1488.21</td>\n",
       "      <td>1486.02</td>\n",
       "      <td>1466.21</td>\n",
       "    </tr>\n",
       "    <tr>\n",
       "      <td>4</td>\n",
       "      <td>1642</td>\n",
       "      <td>2020-10-02</td>\n",
       "      <td>1450.9200</td>\n",
       "      <td>1483.20</td>\n",
       "      <td>1458.42</td>\n",
       "      <td>1462.03</td>\n",
       "    </tr>\n",
       "  </tbody>\n",
       "</table>\n",
       "</div>"
      ],
      "text/plain": [
       "   Unnamed: 0       Date        Low     High    Close     Open\n",
       "0        1646 2020-10-08  1465.0900  1490.00  1485.93  1465.09\n",
       "1        1645 2020-10-07  1436.0000  1468.96  1460.29  1464.29\n",
       "2        1644 2020-10-06  1448.5901  1486.76  1453.44  1475.58\n",
       "3        1643 2020-10-05  1464.2700  1488.21  1486.02  1466.21\n",
       "4        1642 2020-10-02  1450.9200  1483.20  1458.42  1462.03"
      ]
     },
     "execution_count": 51,
     "metadata": {},
     "output_type": "execute_result"
    }
   ],
   "source": [
    "data_test.head()\n"
   ]
  }
 ],
 "metadata": {
  "kernelspec": {
   "display_name": "Python 3",
   "language": "python",
   "name": "python3"
  },
  "language_info": {
   "codemirror_mode": {
    "name": "ipython",
    "version": 3
   },
   "file_extension": ".py",
   "mimetype": "text/x-python",
   "name": "python",
   "nbconvert_exporter": "python",
   "pygments_lexer": "ipython3",
   "version": "3.7.4"
  }
 },
 "nbformat": 4,
 "nbformat_minor": 2
}
